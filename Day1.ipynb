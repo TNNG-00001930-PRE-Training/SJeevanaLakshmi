{
 "cells": [
  {
   "cell_type": "code",
   "execution_count": 9,
   "id": "2c09f9de",
   "metadata": {},
   "outputs": [
    {
     "name": "stdout",
     "output_type": "stream",
     "text": [
      "The given string is the even word in a string \n",
      "even\n",
      "word\n",
      "in\n",
      "string\n"
     ]
    }
   ],
   "source": [
    "#Given a string. The task is to print all words with even length in the given string.\n",
    "def evenLenWords():\n",
    "    string = input(\"The given string is \")\n",
    "    words = string.split()\n",
    "    \n",
    "    for word in words:\n",
    "        if len(word) % 2 == 0:\n",
    "            print(word)\n",
    "\n",
    "evenLenWords()"
   ]
  },
  {
   "cell_type": "code",
   "execution_count": null,
   "id": "1be43b34",
   "metadata": {},
   "outputs": [],
   "source": []
  }
 ],
 "metadata": {
  "kernelspec": {
   "display_name": "Python 3",
   "language": "python",
   "name": "python3"
  },
  "language_info": {
   "codemirror_mode": {
    "name": "ipython",
    "version": 3
   },
   "file_extension": ".py",
   "mimetype": "text/x-python",
   "name": "python",
   "nbconvert_exporter": "python",
   "pygments_lexer": "ipython3",
   "version": "3.8.8"
  }
 },
 "nbformat": 4,
 "nbformat_minor": 5
}
